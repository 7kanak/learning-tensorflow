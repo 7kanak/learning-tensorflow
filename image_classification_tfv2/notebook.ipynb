{
  "nbformat": 4,
  "nbformat_minor": 0,
  "metadata": {
    "colab": {
      "name": "notebook.ipynb",
      "version": "0.3.2",
      "provenance": [],
      "collapsed_sections": [
        "XqhfQ1fK8vSc"
      ]
    },
    "kernelspec": {
      "name": "python3",
      "display_name": "Python 3"
    },
    "accelerator": "GPU"
  },
  "cells": [
    {
      "cell_type": "markdown",
      "metadata": {
        "id": "XqhfQ1fK8vSc",
        "colab_type": "text"
      },
      "source": [
        "# Colab Setup"
      ]
    },
    {
      "cell_type": "code",
      "metadata": {
        "id": "jmIM6fUrpuHk",
        "colab_type": "code",
        "outputId": "d3349685-8b69-4fa7-a0dd-c37813079140",
        "colab": {
          "base_uri": "https://localhost:8080/",
          "height": 128
        }
      },
      "source": [
        "from google.colab import drive\n",
        "drive.mount(\"/content/drive\")"
      ],
      "execution_count": 0,
      "outputs": [
        {
          "output_type": "stream",
          "text": [
            "Go to this URL in a browser: https://accounts.google.com/o/oauth2/auth?client_id=947318989803-6bn6qk8qdgf4n4g3pfee6491hc0brc4i.apps.googleusercontent.com&redirect_uri=urn%3Aietf%3Awg%3Aoauth%3A2.0%3Aoob&scope=email%20https%3A%2F%2Fwww.googleapis.com%2Fauth%2Fdocs.test%20https%3A%2F%2Fwww.googleapis.com%2Fauth%2Fdrive%20https%3A%2F%2Fwww.googleapis.com%2Fauth%2Fdrive.photos.readonly%20https%3A%2F%2Fwww.googleapis.com%2Fauth%2Fpeopleapi.readonly&response_type=code\n",
            "\n",
            "Enter your authorization code:\n",
            "··········\n",
            "Mounted at /content/drive\n"
          ],
          "name": "stdout"
        }
      ]
    },
    {
      "cell_type": "code",
      "metadata": {
        "id": "AhS24TNX8zYL",
        "colab_type": "code",
        "outputId": "256ea7e3-046f-45a6-bb78-2d515e0d8810",
        "colab": {
          "base_uri": "https://localhost:8080/"
        }
      },
      "source": [
        "!pip install -q tensorflow-gpu==2.0.0-alpha0"
      ],
      "execution_count": 0,
      "outputs": [
        {
          "output_type": "stream",
          "text": [
            "\u001b[K     |████████████████████████████████| 332.1MB 53kB/s \n",
            "\u001b[K     |████████████████████████████████| 61kB 26.7MB/s \n",
            "\u001b[K     |████████████████████████████████| 419kB 35.9MB/s \n",
            "\u001b[K     |████████████████████████████████| 3.0MB 46.1MB/s \n",
            "\u001b[?25h"
          ],
          "name": "stdout"
        }
      ]
    },
    {
      "cell_type": "markdown",
      "metadata": {
        "id": "ts8oyGPx9BHi",
        "colab_type": "text"
      },
      "source": [
        "# New Section"
      ]
    },
    {
      "cell_type": "code",
      "metadata": {
        "id": "KhkK3Ti5pyXu",
        "colab_type": "code",
        "outputId": "701334ae-01a2-4173-939b-e8c2c09a41ce",
        "colab": {
          "base_uri": "https://localhost:8080/",
          "height": 35
        }
      },
      "source": [
        "import tensorflow as tf\n",
        "import os\n",
        "import numpy as np\n",
        "print(tf.__version__)"
      ],
      "execution_count": 0,
      "outputs": [
        {
          "output_type": "stream",
          "text": [
            "2.0.0-alpha0\n"
          ],
          "name": "stdout"
        }
      ]
    },
    {
      "cell_type": "code",
      "metadata": {
        "id": "awjIvLNL9xyM",
        "colab_type": "code",
        "outputId": "efa702d0-1381-45f1-cf99-b8b14e9c8fd9",
        "colab": {
          "base_uri": "https://localhost:8080/",
          "height": 35
        }
      },
      "source": [
        "import pathlib\n",
        "data_root = pathlib.Path(\"/content/drive/My Drive/Projects/Gesturec/data/leapGestRecog\")\n",
        "print(data_root)"
      ],
      "execution_count": 0,
      "outputs": [
        {
          "output_type": "stream",
          "text": [
            "/content/drive/My Drive/Projects/Gesturec/data/leapGestRecog\n"
          ],
          "name": "stdout"
        }
      ]
    },
    {
      "cell_type": "code",
      "metadata": {
        "id": "iH9XS_v1qFT3",
        "colab_type": "code",
        "colab": {}
      },
      "source": [
        "#for item in data_root.iterdir():\n",
        "#  print(item)"
      ],
      "execution_count": 0,
      "outputs": []
    },
    {
      "cell_type": "code",
      "metadata": {
        "id": "8lMf8Nefqtqf",
        "colab_type": "code",
        "outputId": "5c513de3-d060-4d75-a458-3155bc1dd633",
        "colab": {
          "base_uri": "https://localhost:8080/",
          "height": 35
        }
      },
      "source": [
        "import random\n",
        "all_image_paths = list(data_root.glob('*/*'))\n",
        "all_image_paths = [str(path) for path in all_image_paths]\n",
        "random.shuffle(all_image_paths)\n",
        "\n",
        "image_count = len(all_image_paths)\n",
        "image_count"
      ],
      "execution_count": 0,
      "outputs": [
        {
          "output_type": "execute_result",
          "data": {
            "text/plain": [
              "20000"
            ]
          },
          "metadata": {
            "tags": []
          },
          "execution_count": 4
        }
      ]
    },
    {
      "cell_type": "code",
      "metadata": {
        "id": "D1r6AL7C-dae",
        "colab_type": "code",
        "colab": {}
      },
      "source": [
        "import IPython.display as display"
      ],
      "execution_count": 0,
      "outputs": []
    },
    {
      "cell_type": "code",
      "metadata": {
        "id": "DH6BUAOk-gkK",
        "colab_type": "code",
        "colab": {}
      },
      "source": [
        "#for n in range(3):\n",
        "#  image_path = random.choice(all_image_paths)\n",
        "#  display.display(display.Image(image_path))"
      ],
      "execution_count": 0,
      "outputs": []
    },
    {
      "cell_type": "code",
      "metadata": {
        "id": "Da_Xetzt--cP",
        "colab_type": "code",
        "outputId": "da7c57e7-d06b-4814-f286-7df460860120",
        "colab": {
          "base_uri": "https://localhost:8080/",
          "height": 199
        }
      },
      "source": [
        "label_names = sorted(item.name for item in data_root.glob('*/') if item.is_dir())\n",
        "label_names"
      ],
      "execution_count": 0,
      "outputs": [
        {
          "output_type": "execute_result",
          "data": {
            "text/plain": [
              "['01_palm',\n",
              " '02_l',\n",
              " '03_fist',\n",
              " '04_fist_moved',\n",
              " '05_thumb',\n",
              " '06_index',\n",
              " '07_ok',\n",
              " '08_palm_moved',\n",
              " '09_c',\n",
              " '10_down']"
            ]
          },
          "metadata": {
            "tags": []
          },
          "execution_count": 7
        }
      ]
    },
    {
      "cell_type": "code",
      "metadata": {
        "id": "hOiGxkvYOqba",
        "colab_type": "code",
        "outputId": "b19b0619-7ca5-4d90-b3ac-9c40d35aa5d4",
        "colab": {
          "base_uri": "https://localhost:8080/",
          "height": 199
        }
      },
      "source": [
        "label_to_index = dict((name, index) for index,name in enumerate(label_names))\n",
        "label_to_index"
      ],
      "execution_count": 0,
      "outputs": [
        {
          "output_type": "execute_result",
          "data": {
            "text/plain": [
              "{'01_palm': 0,\n",
              " '02_l': 1,\n",
              " '03_fist': 2,\n",
              " '04_fist_moved': 3,\n",
              " '05_thumb': 4,\n",
              " '06_index': 5,\n",
              " '07_ok': 6,\n",
              " '08_palm_moved': 7,\n",
              " '09_c': 8,\n",
              " '10_down': 9}"
            ]
          },
          "metadata": {
            "tags": []
          },
          "execution_count": 8
        }
      ]
    },
    {
      "cell_type": "code",
      "metadata": {
        "id": "BhzUfqm9OvLy",
        "colab_type": "code",
        "outputId": "91fbc182-81ac-43a8-f963-02415f52eafb",
        "colab": {
          "base_uri": "https://localhost:8080/",
          "height": 35
        }
      },
      "source": [
        "all_image_labels = [label_to_index[pathlib.Path(path).parent.name]\n",
        "                    for path in all_image_paths]\n",
        "\n",
        "print(\"First 10 labels indices: \", all_image_labels[:10])"
      ],
      "execution_count": 0,
      "outputs": [
        {
          "output_type": "stream",
          "text": [
            "First 10 labels indices:  [4, 8, 8, 8, 3, 7, 4, 3, 4, 9]\n"
          ],
          "name": "stdout"
        }
      ]
    },
    {
      "cell_type": "code",
      "metadata": {
        "id": "xcTSjrd-O-ER",
        "colab_type": "code",
        "outputId": "cd78166a-268e-4cd3-cb27-1c482ff8adb3",
        "colab": {
          "base_uri": "https://localhost:8080/",
          "height": 35
        }
      },
      "source": [
        "img_path = all_image_paths[0]\n",
        "img_path"
      ],
      "execution_count": 0,
      "outputs": [
        {
          "output_type": "execute_result",
          "data": {
            "text/plain": [
              "'/content/drive/My Drive/Projects/Gesturec/data/leapGestRecog/05_thumb/frame_07_05_0071.png'"
            ]
          },
          "metadata": {
            "tags": []
          },
          "execution_count": 10
        }
      ]
    },
    {
      "cell_type": "code",
      "metadata": {
        "id": "wEjXJ84JPCDg",
        "colab_type": "code",
        "outputId": "a902b14f-7c27-40cf-d4ca-c2c3d38a1620",
        "colab": {
          "base_uri": "https://localhost:8080/",
          "height": 35
        }
      },
      "source": [
        "img_raw = tf.io.read_file(img_path)\n",
        "print(repr(img_raw)[:100]+\"...\")"
      ],
      "execution_count": 0,
      "outputs": [
        {
          "output_type": "stream",
          "text": [
            "<tf.Tensor: id=1, shape=(), dtype=string, numpy=b'\\x89PNG\\r\\n\\x1a\\n\\x00\\x00\\x00\\rIHDR\\x00\\x00\\x02\\x8...\n"
          ],
          "name": "stdout"
        }
      ]
    },
    {
      "cell_type": "code",
      "metadata": {
        "id": "GorOdmOZPFPN",
        "colab_type": "code",
        "outputId": "12a5672d-3732-429d-8def-410012d35abb",
        "colab": {
          "base_uri": "https://localhost:8080/",
          "height": 54
        }
      },
      "source": [
        "img_tensor = tf.image.decode_image(img_raw)\n",
        "\n",
        "print(img_tensor.shape)\n",
        "print(img_tensor.dtype)"
      ],
      "execution_count": 0,
      "outputs": [
        {
          "output_type": "stream",
          "text": [
            "(240, 640, 1)\n",
            "<dtype: 'uint8'>\n"
          ],
          "name": "stdout"
        }
      ]
    },
    {
      "cell_type": "code",
      "metadata": {
        "id": "rjCnVHSGPJ5-",
        "colab_type": "code",
        "outputId": "78052377-498c-4b06-f05a-49cae4adb482",
        "colab": {
          "base_uri": "https://localhost:8080/",
          "height": 72
        }
      },
      "source": [
        "img_final = tf.image.resize(img_tensor, [224, 224])\n",
        "img_final = img_final/255.0\n",
        "print(img_final.shape)\n",
        "print(img_final.numpy().min())\n",
        "print(img_final.numpy().max())"
      ],
      "execution_count": 0,
      "outputs": [
        {
          "output_type": "stream",
          "text": [
            "(224, 224, 1)\n",
            "0.008803463\n",
            "0.982413\n"
          ],
          "name": "stdout"
        }
      ]
    },
    {
      "cell_type": "code",
      "metadata": {
        "id": "ljJqeL_JPNIJ",
        "colab_type": "code",
        "colab": {}
      },
      "source": [
        "def preprocess_image(image):\n",
        "  image = tf.image.decode_jpeg(image, channels=3)\n",
        "  image = tf.image.resize(image, [224, 224])\n",
        "  image /= 255.0  # normalize to [0,1] range\n",
        "\n",
        "  return image"
      ],
      "execution_count": 0,
      "outputs": []
    },
    {
      "cell_type": "code",
      "metadata": {
        "id": "fU2VNzgFPSvp",
        "colab_type": "code",
        "colab": {}
      },
      "source": [
        "def load_and_preprocess_image(path):\n",
        "  image = tf.io.read_file(path)\n",
        "  return preprocess_image(image)"
      ],
      "execution_count": 0,
      "outputs": []
    },
    {
      "cell_type": "code",
      "metadata": {
        "id": "Mhp1n4nhPUWe",
        "colab_type": "code",
        "outputId": "cca551bf-2f0c-434f-9702-3086239f5cd0",
        "colab": {
          "base_uri": "https://localhost:8080/",
          "height": 299
        }
      },
      "source": [
        "import matplotlib.pyplot as plt\n",
        "\n",
        "image_path = all_image_paths[0]\n",
        "label = all_image_labels[0]\n",
        "\n",
        "plt.imshow(load_and_preprocess_image(img_path))\n",
        "plt.grid(False)\n",
        "plt.title(label_names[label].title())\n",
        "print()"
      ],
      "execution_count": 0,
      "outputs": [
        {
          "output_type": "stream",
          "text": [
            "\n"
          ],
          "name": "stdout"
        },
        {
          "output_type": "display_data",
          "data": {
            "image/png": "[encoded data removed]",
            "text/plain": [
              "<Figure size 432x288 with 1 Axes>"
            ]
          },
          "metadata": {
            "tags": []
          }
        }
      ]
    },
    {
      "cell_type": "code",
      "metadata": {
        "id": "Ui86kOvXHscn",
        "colab_type": "code",
        "colab": {}
      },
      "source": [
        "from sklearn.model_selection import train_test_split\n",
        "train_image_paths,val_image_paths,train_image_labels,val_image_labesl = train_test_split(all_image_paths,all_image_labels,test_size=0.15)"
      ],
      "execution_count": 0,
      "outputs": []
    },
    {
      "cell_type": "code",
      "metadata": {
        "id": "MLx4vFzfGNqI",
        "colab_type": "code",
        "colab": {}
      },
      "source": [
        ""
      ],
      "execution_count": 0,
      "outputs": []
    },
    {
      "cell_type": "code",
      "metadata": {
        "id": "zrdCXzqVJZ_y",
        "colab_type": "code",
        "colab": {}
      },
      "source": [
        "AUTOTUNE = tf.data.experimental.AUTOTUNE\n",
        "def tfdataset_build(image_path, image_labels, is_training=True, batch_size = 32):\n",
        "  \n",
        "  image_count = len(image_path)\n",
        "  \n",
        "  path_ds = tf.data.Dataset.from_tensor_slices(image_path)\n",
        "  image_ds = path_ds.map(load_and_preprocess_image, num_parallel_calls=AUTOTUNE)\n",
        "  label_ds = tf.data.Dataset.from_tensor_slices(tf.cast(image_labels, tf.int64))\n",
        "  ds = tf.data.Dataset.zip((image_ds, label_ds))\n",
        "  \n",
        "  #if is_training:\n",
        "  #  ds = ds.shuffle(buffer_size=image_count)\n",
        "  ds = ds.repeat()\n",
        "  ds = ds.batch(batch_size)\n",
        "  ds = ds.prefetch(buffer_size=AUTOTUNE)\n",
        "  \n",
        "  return ds"
      ],
      "execution_count": 0,
      "outputs": []
    },
    {
      "cell_type": "code",
      "metadata": {
        "id": "rcErsqfwK931",
        "colab_type": "code",
        "colab": {}
      },
      "source": [
        "train_ds = tfdataset_build(train_image_paths,train_image_labels)\n",
        "val_ds = tfdataset_build(val_image_paths,val_image_labesl,is_training=False)"
      ],
      "execution_count": 0,
      "outputs": []
    },
    {
      "cell_type": "code",
      "metadata": {
        "id": "pgeJGjNPQjiQ",
        "colab_type": "code",
        "colab": {}
      },
      "source": [
        "#Another way\n",
        "#ds = tf.data.Dataset.from_tensor_slices((all_image_paths, all_image_labels))\n",
        "#\n",
        "## The tuples are unpacked into the positional arguments of the mapped function\n",
        "#def load_and_preprocess_from_path_label(path, label):\n",
        "#  return load_and_preprocess_image(path), label\n",
        "#\n",
        "#image_label_ds = ds.map(load_and_preprocess_from_path_label)\n",
        "#image_label_ds"
      ],
      "execution_count": 0,
      "outputs": []
    },
    {
      "cell_type": "code",
      "metadata": {
        "id": "krAMJUoyuBRF",
        "colab_type": "code",
        "colab": {}
      },
      "source": [
        "tinput = load_and_preprocess_image(train_image_paths[0])\n",
        "tinput = tinput[None]"
      ],
      "execution_count": 0,
      "outputs": []
    },
    {
      "cell_type": "code",
      "metadata": {
        "id": "M1u9scSnYtA3",
        "colab_type": "code",
        "colab": {}
      },
      "source": [
        "from tensorflow.keras import layers"
      ],
      "execution_count": 0,
      "outputs": []
    },
    {
      "cell_type": "code",
      "metadata": {
        "id": "foCTmwq9Z9zG",
        "colab_type": "code",
        "colab": {}
      },
      "source": [
        "class InitialLayer(layers.Layer):\n",
        "  def __init__(self):\n",
        "    super(InitialLayer, self).__init__()\n",
        "    \n",
        "    self.conv1 = layers.Conv2D(64,(7,7),strides=(2,2),padding='same')\n",
        "    self.maxpool1 = layers.MaxPooling2D((3,3), strides=(2,2),padding='same')\n",
        "    self.relu = layers.Activation('relu')\n",
        "   \n",
        "  def call(self,x):\n",
        "    x = self.conv1(x)\n",
        "    x = self.relu(x)\n",
        "\n",
        "    x = self.maxpool1(x)\n",
        "    return x"
      ],
      "execution_count": 0,
      "outputs": []
    },
    {
      "cell_type": "code",
      "metadata": {
        "id": "yz-yUkBzVeXU",
        "colab_type": "code",
        "colab": {}
      },
      "source": [
        " class SkipLayer(layers.Layer):\n",
        "  def __init__(self, kernels):\n",
        "    super(SkipLayer, self).__init__()\n",
        "    \n",
        "    self.conv1 = layers.Conv2D(kernels,(3,3), padding = 'same')\n",
        "    self.conv2 = layers.Conv2D(kernels,(3,3), padding = 'same')\n",
        "    self.bn1 = layers.BatchNormalization()\n",
        "    self.bn2 = layers.BatchNormalization()\n",
        "    self.relu = layers.Activation('relu')\n",
        "    \n",
        "  def call(self,inputs):\n",
        "    x = self.conv1(inputs)\n",
        "    x = self.bn1(x)\n",
        "    x = self.relu(x)\n",
        "    x = self.conv2(x)\n",
        "    x = self.bn2(x)\n",
        "    \n",
        "    x = layers.add([x,inputs])\n",
        "    \n",
        "    x = self.relu(x)\n",
        "    return x"
      ],
      "execution_count": 0,
      "outputs": []
    },
    {
      "cell_type": "code",
      "metadata": {
        "id": "RcHxcGfpbeLI",
        "colab_type": "code",
        "colab": {}
      },
      "source": [
        "class BottleNeck(layers.Layer):\n",
        "  def __init__(self, kernels):\n",
        "    super(BottleNeck, self).__init__()\n",
        "    \n",
        "    self.conv1 = layers.Conv2D(kernels,(3,3), strides=(2,2), padding = 'same')\n",
        "    self.conv2 = layers.Conv2D(kernels,(3,3), padding = 'same')\n",
        "    self.conv3 = layers.Conv2D(kernels,(1,1) , strides = (2,2) , padding = 'same')\n",
        "    self.bn1 = layers.BatchNormalization()\n",
        "    self.bn2 = layers.BatchNormalization()\n",
        "    self.relu = layers.Activation('relu')\n",
        "    \n",
        "  def call(self,inputs):\n",
        "    #print(inputs.shape) #56,64\n",
        "    x = self.conv1(inputs) #print(x.shape) # 28,128\n",
        "    x = self.bn1(x)\n",
        "    x = self.relu(x)\n",
        "    x = self.conv2(x) #print(x.shape) #28,128      \n",
        "    x = self.bn2(x)\n",
        "    x = self.relu(x)\n",
        "    inputs = self.conv3(inputs)#print(inputs.shape) #28,128\n",
        "    x = layers.add([x,inputs])\n",
        "    \n",
        "    x = self.relu(x)\n",
        "    return x"
      ],
      "execution_count": 0,
      "outputs": []
    },
    {
      "cell_type": "code",
      "metadata": {
        "id": "gUYSBsCnvThx",
        "colab_type": "code",
        "colab": {}
      },
      "source": [
        "class ANN(layers.Layer):\n",
        "  def __init__(self, n_classes, blocks):\n",
        "    super(ANN, self).__init__()\n",
        "    self.blocks = blocks  \n",
        "    self.n_classes = n_classes\n",
        "    \n",
        "    self.layer1 = [layers.Dense(units = self.blocks[i], activation='relu') for i in range(len(self.blocks))]\n",
        "    self.layer2 = layers.Dense(self.n_classes, activation='sigmoid')\n",
        "   \n",
        "  def call(self,x):\n",
        "    for i in range(len(self.blocks)):\n",
        "      x = self.layer1[i](x)\n",
        "     \n",
        "    x = self.layer2(x)\n",
        "    return x"
      ],
      "execution_count": 0,
      "outputs": []
    },
    {
      "cell_type": "code",
      "metadata": {
        "id": "bKnNwJQUMrww",
        "colab_type": "code",
        "colab": {}
      },
      "source": [
        "@jjvbskv\n",
        "class ResNet(tf.keras.Model):\n",
        "  \n",
        "  def __init__(self, blocks, n_classes):\n",
        "    super(ResNet,self).__init__()\n",
        "    self.n64 , self.n128 , self.n256, self.n512 = blocks\n",
        "    self.n_classes = n_classes\n",
        "    \n",
        "    self.init_block = InitialLayer()\n",
        "    self.block1 = [SkipLayer(64) for i in range(self.n64)]\n",
        "    self.block2 = [SkipLayer(128) for i in range(self.n128)]\n",
        "    self.block3 = [SkipLayer(256) for i in range(self.n256)]\n",
        "    self.block4 = [SkipLayer(512) for i in range(self.n512)]\n",
        "    \n",
        "    self.bottle1 = BottleNeck(128)\n",
        "    self.bottle2 = BottleNeck(256)\n",
        "    self.bottle3 = BottleNeck(512)\n",
        "    \n",
        "    self.avgpool = layers.GlobalAveragePooling2D(name='avg_pool')\n",
        "    self.flatten = layers.Flatten()\n",
        "    \n",
        "    self.op = ANN(10 , [1024,128])\n",
        "    \n",
        "  def call(self, x):\n",
        "    #224\n",
        "    x = self.init_block(x)\n",
        "    #64\n",
        "    for i in range(self.n64):\n",
        "      x = self.block1[i](x)\n",
        "    #128\n",
        "    x = self.bottle1(x)\n",
        "    \n",
        "    for i in range(self.n128):\n",
        "      x = self.block2[i](x)\n",
        "    #256\n",
        "    x = self.bottle2(x)\n",
        "    \n",
        "    for i in range(self.n256):\n",
        "      x = self.block3[i](x)\n",
        "    #512\n",
        "    x = self.bottle3(x)\n",
        "    for i in range(self.n512):\n",
        "      x = self.block4[i](x)\n",
        "     \n",
        "    x = self.avgpool(x)\n",
        "    x = self.flatten(x)\n",
        "    \n",
        "    x = self.op(x)\n",
        "    \n",
        "    \n",
        "    return x"
      ],
      "execution_count": 0,
      "outputs": []
    },
    {
      "cell_type": "code",
      "metadata": {
        "id": "B-EiC6lRPoCS",
        "colab_type": "code",
        "colab": {}
      },
      "source": [
        "res = ResNet([3,3,5,2],10)"
      ],
      "execution_count": 0,
      "outputs": []
    },
    {
      "cell_type": "code",
      "metadata": {
        "id": "vl18xeuZPqgl",
        "colab_type": "code",
        "colab": {}
      },
      "source": [
        "res.compile(optimizer=tf.keras.optimizers.Adam(),  # Optimizer\n",
        "              # Loss function to minimize\n",
        "              loss=tf.keras.losses.SparseCategoricalCrossentropy(),\n",
        "              # List of metrics to monitor\n",
        "              metrics=[tf.keras.metrics.SparseCategoricalAccuracy()])"
      ],
      "execution_count": 0,
      "outputs": []
    },
    {
      "cell_type": "code",
      "metadata": {
        "id": "K07t821u_wQ5",
        "colab_type": "code",
        "colab": {}
      },
      "source": [
        "image_batch, label_batch = next(iter(train_ds))"
      ],
      "execution_count": 0,
      "outputs": []
    },
    {
      "cell_type": "code",
      "metadata": {
        "id": "uB8I3VC9CEOA",
        "colab_type": "code",
        "colab": {}
      },
      "source": [
        "op = res(image_batch)"
      ],
      "execution_count": 0,
      "outputs": []
    },
    {
      "cell_type": "code",
      "metadata": {
        "id": "XDXvppNxCLRv",
        "colab_type": "code",
        "outputId": "839df9cb-d939-4dd9-a397-e750318a8225",
        "colab": {
          "base_uri": "https://localhost:8080/",
          "height": 35
        }
      },
      "source": [
        "op.shape"
      ],
      "execution_count": 0,
      "outputs": [
        {
          "output_type": "execute_result",
          "data": {
            "text/plain": [
              "TensorShape([32, 10])"
            ]
          },
          "metadata": {
            "tags": []
          },
          "execution_count": 47
        }
      ]
    },
    {
      "cell_type": "code",
      "metadata": {
        "id": "MszRcCzTCOiv",
        "colab_type": "code",
        "outputId": "1d651962-fb82-4f1b-a34c-4fe693929df8",
        "colab": {
          "base_uri": "https://localhost:8080/",
          "height": 890
        }
      },
      "source": [
        "res.summary()"
      ],
      "execution_count": 0,
      "outputs": [
        {
          "output_type": "stream",
          "text": [
            "Model: \"res_net\"\n",
            "_________________________________________________________________\n",
            "Layer (type)                 Output Shape              Param #   \n",
            "=================================================================\n",
            "initial_layer (InitialLayer) multiple                  9472      \n",
            "_________________________________________________________________\n",
            "skip_layer (SkipLayer)       multiple                  74368     \n",
            "_________________________________________________________________\n",
            "skip_layer_1 (SkipLayer)     multiple                  74368     \n",
            "_________________________________________________________________\n",
            "skip_layer_2 (SkipLayer)     multiple                  74368     \n",
            "_________________________________________________________________\n",
            "skip_layer_3 (SkipLayer)     multiple                  296192    \n",
            "_________________________________________________________________\n",
            "skip_layer_4 (SkipLayer)     multiple                  296192    \n",
            "_________________________________________________________________\n",
            "skip_layer_5 (SkipLayer)     multiple                  296192    \n",
            "_________________________________________________________________\n",
            "skip_layer_6 (SkipLayer)     multiple                  1182208   \n",
            "_________________________________________________________________\n",
            "skip_layer_7 (SkipLayer)     multiple                  1182208   \n",
            "_________________________________________________________________\n",
            "skip_layer_8 (SkipLayer)     multiple                  1182208   \n",
            "_________________________________________________________________\n",
            "skip_layer_9 (SkipLayer)     multiple                  1182208   \n",
            "_________________________________________________________________\n",
            "skip_layer_10 (SkipLayer)    multiple                  1182208   \n",
            "_________________________________________________________________\n",
            "skip_layer_11 (SkipLayer)    multiple                  4723712   \n",
            "_________________________________________________________________\n",
            "skip_layer_12 (SkipLayer)    multiple                  4723712   \n",
            "_________________________________________________________________\n",
            "bottle_neck (BottleNeck)     multiple                  230784    \n",
            "_________________________________________________________________\n",
            "bottle_neck_1 (BottleNeck)   multiple                  920320    \n",
            "_________________________________________________________________\n",
            "bottle_neck_2 (BottleNeck)   multiple                  3675648   \n",
            "_________________________________________________________________\n",
            "avg_pool (GlobalAveragePooli multiple                  0         \n",
            "_________________________________________________________________\n",
            "flatten (Flatten)            multiple                  0         \n",
            "_________________________________________________________________\n",
            "ann (ANN)                    multiple                  657802    \n",
            "=================================================================\n",
            "Total params: 21,964,170\n",
            "Trainable params: 21,949,066\n",
            "Non-trainable params: 15,104\n",
            "_________________________________________________________________\n"
          ],
          "name": "stdout"
        }
      ]
    },
    {
      "cell_type": "code",
      "metadata": {
        "id": "gjcUn4zECaZQ",
        "colab_type": "code",
        "outputId": "ec8735b0-2e2b-450a-bacc-36b2de029277",
        "colab": {
          "base_uri": "https://localhost:8080/",
          "height": 35
        }
      },
      "source": [
        "BATCH_SIZE = 32\n",
        "steps_per_epoch=tf.math.ceil(len(val_image_paths)/BATCH_SIZE).numpy()\n",
        "steps_per_epoch"
      ],
      "execution_count": 0,
      "outputs": [
        {
          "output_type": "execute_result",
          "data": {
            "text/plain": [
              "94.0"
            ]
          },
          "metadata": {
            "tags": []
          },
          "execution_count": 54
        }
      ]
    },
    {
      "cell_type": "code",
      "metadata": {
        "id": "1QPVwmFOKUFw",
        "colab_type": "code",
        "colab": {}
      },
      "source": [
        "??res.fit"
      ],
      "execution_count": 0,
      "outputs": []
    },
    {
      "cell_type": "code",
      "metadata": {
        "id": "zhzX6mecyzcC",
        "colab_type": "code",
        "outputId": "85713d9b-3ea1-4e73-8893-5aa5bc018245",
        "colab": {
          "base_uri": "https://localhost:8080/",
          "height": 437
        }
      },
      "source": [
        "res.fit(train_ds, epochs=10, steps_per_epoch=532,validation_data=val_ds,validation_steps=94)"
      ],
      "execution_count": 0,
      "outputs": [
        {
          "output_type": "stream",
          "text": [
            "W0514 16:26:01.077648 139797398722432 training_utils.py:1353] Expected a shuffled dataset but input dataset `x` is not shuffled. Please invoke `shuffle()` on input dataset.\n"
          ],
          "name": "stderr"
        },
        {
          "output_type": "stream",
          "text": [
            "Epoch 1/10\n",
            "532/532 [==============================] - 461s 866ms/step - loss: 0.0488 - sparse_categorical_accuracy: 0.9854 - val_loss: 1.7287 - val_sparse_categorical_accuracy: 0.6396\n",
            "Epoch 2/10\n",
            "532/532 [==============================] - 131s 247ms/step - loss: 0.0288 - sparse_categorical_accuracy: 0.9908 - val_loss: 4.6264 - val_sparse_categorical_accuracy: 0.4794\n",
            "Epoch 3/10\n",
            "532/532 [==============================] - 133s 251ms/step - loss: 0.0319 - sparse_categorical_accuracy: 0.9899 - val_loss: 0.0459 - val_sparse_categorical_accuracy: 0.9840\n",
            "Epoch 4/10\n",
            "532/532 [==============================] - 133s 250ms/step - loss: 0.0102 - sparse_categorical_accuracy: 0.9976 - val_loss: 0.1045 - val_sparse_categorical_accuracy: 0.9628\n",
            "Epoch 5/10\n",
            "532/532 [==============================] - 134s 252ms/step - loss: 0.0120 - sparse_categorical_accuracy: 0.9977 - val_loss: 1.4595 - val_sparse_categorical_accuracy: 0.7281\n",
            "Epoch 6/10\n",
            "532/532 [==============================] - 135s 253ms/step - loss: 0.0250 - sparse_categorical_accuracy: 0.9934 - val_loss: 0.0348 - val_sparse_categorical_accuracy: 0.9957\n",
            "Epoch 7/10\n",
            "532/532 [==============================] - 134s 251ms/step - loss: 0.0211 - sparse_categorical_accuracy: 0.9941 - val_loss: 5.5664 - val_sparse_categorical_accuracy: 0.5266\n",
            "Epoch 8/10\n",
            "532/532 [==============================] - 135s 254ms/step - loss: 0.0080 - sparse_categorical_accuracy: 0.9979 - val_loss: 0.0408 - val_sparse_categorical_accuracy: 0.9917\n",
            "Epoch 9/10\n",
            "532/532 [==============================] - 134s 252ms/step - loss: 0.0154 - sparse_categorical_accuracy: 0.9966 - val_loss: 5.2391 - val_sparse_categorical_accuracy: 0.5426\n",
            "Epoch 10/10\n",
            "532/532 [==============================] - 133s 250ms/step - loss: 0.0167 - sparse_categorical_accuracy: 0.9955 - val_loss: 0.0098 - val_sparse_categorical_accuracy: 0.9983\n"
          ],
          "name": "stdout"
        },
        {
          "output_type": "execute_result",
          "data": {
            "text/plain": [
              "<tensorflow.python.keras.callbacks.History at 0x7f22bc1e8358>"
            ]
          },
          "metadata": {
            "tags": []
          },
          "execution_count": 56
        }
      ]
    },
    {
      "cell_type": "code",
      "metadata": {
        "id": "qwxMr_zTRbyK",
        "colab_type": "code",
        "colab": {}
      },
      "source": [
        "imgs, lbls = next(iter(val_ds))"
      ],
      "execution_count": 0,
      "outputs": []
    },
    {
      "cell_type": "code",
      "metadata": {
        "id": "pQZ5R_W50mvH",
        "colab_type": "code",
        "colab": {}
      },
      "source": [
        "ans = res(imgs)"
      ],
      "execution_count": 0,
      "outputs": []
    },
    {
      "cell_type": "code",
      "metadata": {
        "id": "cHbr6DeVRkTb",
        "colab_type": "code",
        "outputId": "edcc0770-6e78-411a-d2d5-d5ea17d19c1f",
        "colab": {
          "base_uri": "https://localhost:8080/",
          "height": 35
        }
      },
      "source": [
        "ans.shape"
      ],
      "execution_count": 0,
      "outputs": [
        {
          "output_type": "execute_result",
          "data": {
            "text/plain": [
              "TensorShape([32, 10])"
            ]
          },
          "metadata": {
            "tags": []
          },
          "execution_count": 60
        }
      ]
    },
    {
      "cell_type": "code",
      "metadata": {
        "id": "AO61DQaSRoI6",
        "colab_type": "code",
        "outputId": "77003498-4f38-4e50-977d-d03f438e2f34",
        "colab": {
          "base_uri": "https://localhost:8080/",
          "height": 72
        }
      },
      "source": [
        "tf.argmax(ans,1)"
      ],
      "execution_count": 0,
      "outputs": [
        {
          "output_type": "execute_result",
          "data": {
            "text/plain": [
              "<tf.Tensor: id=96414, shape=(32,), dtype=int64, numpy=\n",
              "array([5, 3, 0, 6, 4, 8, 1, 5, 1, 2, 8, 7, 6, 6, 5, 8, 3, 8, 7, 5, 9, 7,\n",
              "       0, 1, 2, 8, 6, 1, 1, 3, 2, 8])>"
            ]
          },
          "metadata": {
            "tags": []
          },
          "execution_count": 64
        }
      ]
    },
    {
      "cell_type": "code",
      "metadata": {
        "id": "c5UjHj01RqMg",
        "colab_type": "code",
        "outputId": "f24f41dc-2c5b-42c1-c5d1-413bdcf23490",
        "colab": {
          "base_uri": "https://localhost:8080/",
          "height": 72
        }
      },
      "source": [
        "lbls"
      ],
      "execution_count": 0,
      "outputs": [
        {
          "output_type": "execute_result",
          "data": {
            "text/plain": [
              "<tf.Tensor: id=95332, shape=(32,), dtype=int64, numpy=\n",
              "array([5, 3, 0, 6, 4, 8, 1, 5, 1, 2, 8, 7, 6, 6, 5, 8, 3, 8, 7, 5, 9, 7,\n",
              "       0, 1, 2, 8, 6, 1, 1, 3, 2, 8])>"
            ]
          },
          "metadata": {
            "tags": []
          },
          "execution_count": 65
        }
      ]
    },
    {
      "cell_type": "code",
      "metadata": {
        "id": "0jbIQEBIRwqw",
        "colab_type": "code",
        "outputId": "542a4ef2-1151-49df-f760-1dccaf651ce6",
        "colab": {
          "base_uri": "https://localhost:8080/",
          "height": 287
        }
      },
      "source": [
        "plt.imshow(imgs[2])"
      ],
      "execution_count": 0,
      "outputs": [
        {
          "output_type": "execute_result",
          "data": {
            "text/plain": [
              "<matplotlib.image.AxesImage at 0x7f22ba0bfba8>"
            ]
          },
          "metadata": {
            "tags": []
          },
          "execution_count": 70
        },
        {
          "output_type": "display_data",
          "data": {
            "image/png": "[encoded data removed]",
            "text/plain": [
              "<Figure size 432x288 with 1 Axes>"
            ]
          },
          "metadata": {
            "tags": []
          }
        }
      ]
    },
    {
      "cell_type": "code",
      "metadata": {
        "id": "3lT28FitR7s6",
        "colab_type": "code",
        "outputId": "8cecf514-3d8d-4d61-8cd3-055db436f640",
        "colab": {
          "base_uri": "https://localhost:8080/",
          "height": 199
        }
      },
      "source": [
        "label_to_index"
      ],
      "execution_count": 0,
      "outputs": [
        {
          "output_type": "execute_result",
          "data": {
            "text/plain": [
              "{'01_palm': 0,\n",
              " '02_l': 1,\n",
              " '03_fist': 2,\n",
              " '04_fist_moved': 3,\n",
              " '05_thumb': 4,\n",
              " '06_index': 5,\n",
              " '07_ok': 6,\n",
              " '08_palm_moved': 7,\n",
              " '09_c': 8,\n",
              " '10_down': 9}"
            ]
          },
          "metadata": {
            "tags": []
          },
          "execution_count": 68
        }
      ]
    },
    {
      "cell_type": "code",
      "metadata": {
        "id": "TYOnIS3mR_se",
        "colab_type": "code",
        "outputId": "8c1cb125-bd8a-4507-a91e-0a20b864ed4f",
        "colab": {
          "base_uri": "https://localhost:8080/",
          "height": 54
        }
      },
      "source": [
        "res.evaluate(val_ds,steps = 1000)"
      ],
      "execution_count": 0,
      "outputs": [
        {
          "output_type": "stream",
          "text": [
            "1000/1000 [==============================] - 134s 134ms/step - loss: 0.0100 - sparse_categorical_accuracy: 0.9983\n"
          ],
          "name": "stdout"
        },
        {
          "output_type": "execute_result",
          "data": {
            "text/plain": [
              "[0.009983262796758709, 0.9983125]"
            ]
          },
          "metadata": {
            "tags": []
          },
          "execution_count": 73
        }
      ]
    },
    {
      "cell_type": "code",
      "metadata": {
        "id": "RbhDSoxrSwQ8",
        "colab_type": "code",
        "colab": {}
      },
      "source": [
        ""
      ],
      "execution_count": 0,
      "outputs": []
    }
  ]
}